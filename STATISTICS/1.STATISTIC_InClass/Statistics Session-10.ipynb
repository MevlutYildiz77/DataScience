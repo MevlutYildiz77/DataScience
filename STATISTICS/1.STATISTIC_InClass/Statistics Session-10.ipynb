{
 "cells": [
  {
   "cell_type": "code",
   "execution_count": 1,
   "id": "9b96377d",
   "metadata": {},
   "outputs": [],
   "source": [
    "from scipy import stats\n",
    "import pandas as pd"
   ]
  },
  {
   "cell_type": "markdown",
   "id": "4f5646ff",
   "metadata": {},
   "source": [
    "## Two Catalyst Example"
   ]
  },
  {
   "cell_type": "code",
   "execution_count": 2,
   "id": "a1744c77",
   "metadata": {},
   "outputs": [],
   "source": [
    "x = [91.50, 94.18, 92.18, 95.39, 91.79, 89.07, 94.72, 89.21, 89.19, 90.95, 90.46, 93.21, 97.19, 97.04, 91.07, 92.75]"
   ]
  },
  {
   "cell_type": "code",
   "execution_count": 3,
   "id": "3e3315cd",
   "metadata": {},
   "outputs": [],
   "source": [
    "group = [1,1,1,1,1,1,1,1,2,2,2,2,2,2,2,2]"
   ]
  },
  {
   "cell_type": "code",
   "execution_count": 4,
   "id": "139a43b4",
   "metadata": {},
   "outputs": [
    {
     "data": {
      "text/html": [
       "<div>\n",
       "<style scoped>\n",
       "    .dataframe tbody tr th:only-of-type {\n",
       "        vertical-align: middle;\n",
       "    }\n",
       "\n",
       "    .dataframe tbody tr th {\n",
       "        vertical-align: top;\n",
       "    }\n",
       "\n",
       "    .dataframe thead th {\n",
       "        text-align: right;\n",
       "    }\n",
       "</style>\n",
       "<table border=\"1\" class=\"dataframe\">\n",
       "  <thead>\n",
       "    <tr style=\"text-align: right;\">\n",
       "      <th></th>\n",
       "      <th>yield</th>\n",
       "      <th>group</th>\n",
       "    </tr>\n",
       "  </thead>\n",
       "  <tbody>\n",
       "    <tr>\n",
       "      <th>0</th>\n",
       "      <td>91.50</td>\n",
       "      <td>1</td>\n",
       "    </tr>\n",
       "    <tr>\n",
       "      <th>1</th>\n",
       "      <td>94.18</td>\n",
       "      <td>1</td>\n",
       "    </tr>\n",
       "    <tr>\n",
       "      <th>2</th>\n",
       "      <td>92.18</td>\n",
       "      <td>1</td>\n",
       "    </tr>\n",
       "    <tr>\n",
       "      <th>3</th>\n",
       "      <td>95.39</td>\n",
       "      <td>1</td>\n",
       "    </tr>\n",
       "    <tr>\n",
       "      <th>4</th>\n",
       "      <td>91.79</td>\n",
       "      <td>1</td>\n",
       "    </tr>\n",
       "    <tr>\n",
       "      <th>5</th>\n",
       "      <td>89.07</td>\n",
       "      <td>1</td>\n",
       "    </tr>\n",
       "    <tr>\n",
       "      <th>6</th>\n",
       "      <td>94.72</td>\n",
       "      <td>1</td>\n",
       "    </tr>\n",
       "    <tr>\n",
       "      <th>7</th>\n",
       "      <td>89.21</td>\n",
       "      <td>1</td>\n",
       "    </tr>\n",
       "    <tr>\n",
       "      <th>8</th>\n",
       "      <td>89.19</td>\n",
       "      <td>2</td>\n",
       "    </tr>\n",
       "    <tr>\n",
       "      <th>9</th>\n",
       "      <td>90.95</td>\n",
       "      <td>2</td>\n",
       "    </tr>\n",
       "    <tr>\n",
       "      <th>10</th>\n",
       "      <td>90.46</td>\n",
       "      <td>2</td>\n",
       "    </tr>\n",
       "    <tr>\n",
       "      <th>11</th>\n",
       "      <td>93.21</td>\n",
       "      <td>2</td>\n",
       "    </tr>\n",
       "    <tr>\n",
       "      <th>12</th>\n",
       "      <td>97.19</td>\n",
       "      <td>2</td>\n",
       "    </tr>\n",
       "    <tr>\n",
       "      <th>13</th>\n",
       "      <td>97.04</td>\n",
       "      <td>2</td>\n",
       "    </tr>\n",
       "    <tr>\n",
       "      <th>14</th>\n",
       "      <td>91.07</td>\n",
       "      <td>2</td>\n",
       "    </tr>\n",
       "    <tr>\n",
       "      <th>15</th>\n",
       "      <td>92.75</td>\n",
       "      <td>2</td>\n",
       "    </tr>\n",
       "  </tbody>\n",
       "</table>\n",
       "</div>"
      ],
      "text/plain": [
       "    yield  group\n",
       "0   91.50      1\n",
       "1   94.18      1\n",
       "2   92.18      1\n",
       "3   95.39      1\n",
       "4   91.79      1\n",
       "5   89.07      1\n",
       "6   94.72      1\n",
       "7   89.21      1\n",
       "8   89.19      2\n",
       "9   90.95      2\n",
       "10  90.46      2\n",
       "11  93.21      2\n",
       "12  97.19      2\n",
       "13  97.04      2\n",
       "14  91.07      2\n",
       "15  92.75      2"
      ]
     },
     "execution_count": 4,
     "metadata": {},
     "output_type": "execute_result"
    }
   ],
   "source": [
    "df = pd.DataFrame({\"yield\":x, \"group\":group})\n",
    "df"
   ]
  },
  {
   "cell_type": "code",
   "execution_count": 5,
   "id": "c40f22e5",
   "metadata": {},
   "outputs": [
    {
     "data": {
      "text/plain": [
       "Ttest_indResult(statistic=-0.3535908643461798, pvalue=0.7289136186068217)"
      ]
     },
     "execution_count": 5,
     "metadata": {},
     "output_type": "execute_result"
    }
   ],
   "source": [
    "# Calculate test statistics using stats.ttest_ind()\n",
    "indTest = stats.ttest_ind(df[df[\"group\"]==1][\"yield\"], df[df[\"group\"]==2][\"yield\"])\n",
    "indTest"
   ]
  },
  {
   "cell_type": "markdown",
   "id": "9c0971db",
   "metadata": {},
   "source": [
    "scipy.stats.ttest_ind(a, b, axis=0, equal_var=True, nan_policy='propagate', permutations=None, random_state=None, alternative='two-sided', trim=0)[source]\n",
    "Calculate the T-test for the means of two independent samples of scores.\n",
    "\n",
    "This is a two-sided test for the null hypothesis that 2 independent samples have identical average (expected) values. This test assumes that the populations have identical variances by default.\n",
    "\n",
    "Parameters\n",
    "a, barray_like\n",
    "The arrays must have the same shape, except in the dimension corresponding to axis (the first, by default).\n",
    "\n",
    "axis:int or None, optional\n",
    "Axis along which to compute test. If None, compute over the whole arrays, a, and b.\n",
    "\n",
    "equal_varbool, optional\n",
    "If True (default), perform a standard independent 2 sample test that assumes equal population variances [1]. If False, perform Welch’s t-test, which does not assume equal population variance [2].\n",
    "\n",
    "New in version 0.11.0.\n",
    "\n",
    "nan_policy{‘propagate’, ‘raise’, ‘omit’}, optional\n",
    "Defines how to handle when input contains nan. The following options are available (default is ‘propagate’):\n",
    "\n",
    "‘propagate’: returns nan\n",
    "\n",
    "‘raise’: throws an error\n",
    "\n",
    "‘omit’: performs the calculations ignoring nan values\n",
    "\n",
    "The ‘omit’ option is not currently available for permutation tests or one-sided asympyotic tests.\n",
    "\n",
    "permutationsnon-negative int, np.inf, or None (default), optional\n",
    "If 0 or None (default), use the t-distribution to calculate p-values. Otherwise, permutations is the number of random permutations that will be used to estimate p-values using a permutation test. If permutations equals or exceeds the number of distinct partitions of the pooled data, an exact test is performed instead (i.e. each distinct partition is used exactly once). See Notes for details.\n",
    "\n",
    "New in version 1.7.0.\n",
    "\n",
    "random_state{None, int, numpy.random.Generator,\n",
    "numpy.random.RandomState}, optional\n",
    "\n",
    "If seed is None (or np.random), the numpy.random.RandomState singleton is used. If seed is an int, a new RandomState instance is used, seeded with seed. If seed is already a Generator or RandomState instance then that instance is used.\n",
    "\n",
    "Pseudorandom number generator state used to generate permutations (used only when permutations is not None).\n",
    "\n",
    "New in version 1.7.0.\n",
    "\n",
    "alternative{‘two-sided’, ‘less’, ‘greater’}, optional\n",
    "Defines the alternative hypothesis. The following options are available (default is ‘two-sided’):\n",
    "\n",
    "‘two-sided’\n",
    "\n",
    "‘less’: one-sided\n",
    "\n",
    "‘greater’: one-sided\n",
    "\n",
    "New in version 1.6.0.\n",
    "\n",
    "trimfloat, optional\n",
    "If nonzero, performs a trimmed (Yuen’s) t-test. Defines the fraction of elements to be trimmed from each end of the input samples. If 0 (default), no elements will be trimmed from either side. The number of trimmed elements from each tail is the floor of the trim times the number of elements. Valid range is [0, .5).\n",
    "\n",
    "New in version 1.7.\n",
    "\n",
    "Returns\n",
    "statisticfloat or array\n",
    "The calculated t-statistic.\n",
    "\n",
    "pvaluefloat or array\n",
    "The two-tailed p-value."
   ]
  },
  {
   "cell_type": "code",
   "execution_count": 6,
   "id": "9cee2f45",
   "metadata": {},
   "outputs": [
    {
     "data": {
      "text/plain": [
       "Ttest_indResult(statistic=-0.353922390875553, pvalue=0.7286705530970293)"
      ]
     },
     "execution_count": 6,
     "metadata": {},
     "output_type": "execute_result"
    }
   ],
   "source": [
    "# Calculate test statistics using stats.ttest_ind_from_stats()\n",
    "indTest = stats.ttest_ind_from_stats(mean1=92.255, std1=2.39, nobs1=8,\n",
    "                     mean2=92.733, std2=2.98, nobs2=8)\n",
    "\n",
    "indTest"
   ]
  },
  {
   "cell_type": "markdown",
   "id": "bceba68c",
   "metadata": {},
   "source": [
    "scipy.stats.ttest_ind_from_stats(mean1, std1, nobs1, mean2, std2, nobs2, equal_var=True, alternative='two-sided')\n",
    "T-test for means of two independent samples from descriptive statistics.\n",
    "\n",
    "This is a two-sided test for the null hypothesis that two independent samples have identical average (expected) values.\n",
    "\n",
    "Parameters\n",
    "mean1array_like\n",
    "The mean(s) of sample 1.\n",
    "\n",
    "std1array_like\n",
    "The standard deviation(s) of sample 1.\n",
    "\n",
    "nobs1array_like\n",
    "The number(s) of observations of sample 1.\n",
    "\n",
    "mean2array_like\n",
    "The mean(s) of sample 2.\n",
    "\n",
    "std2array_like\n",
    "The standard deviations(s) of sample 2.\n",
    "\n",
    "nobs2array_like\n",
    "The number(s) of observations of sample 2.\n",
    "\n",
    "equal_varbool, optional\n",
    "If True (default), perform a standard independent 2 sample test that assumes equal population variances [1]. If False, perform Welch’s t-test, which does not assume equal population variance [2].\n",
    "\n",
    "alternative{‘two-sided’, ‘less’, ‘greater’}, optional\n",
    "Defines the alternative hypothesis. The following options are available (default is ‘two-sided’):\n",
    "\n",
    "‘two-sided’\n",
    "\n",
    "‘less’: one-sided\n",
    "\n",
    "‘greater’: one-sided\n",
    "\n",
    "New in version 1.6.0.\n",
    "\n",
    "Returns\n",
    "statisticfloat or array\n",
    "The calculated t-statistics.\n",
    "\n",
    "pvaluefloat or array\n",
    "The two-tailed p-value."
   ]
  },
  {
   "cell_type": "code",
   "execution_count": 7,
   "id": "69a90b48",
   "metadata": {},
   "outputs": [
    {
     "data": {
      "text/plain": [
       "-0.353922390875553"
      ]
     },
     "execution_count": 7,
     "metadata": {},
     "output_type": "execute_result"
    }
   ],
   "source": [
    "indTest.statistic"
   ]
  },
  {
   "cell_type": "code",
   "execution_count": 8,
   "id": "eb582080",
   "metadata": {},
   "outputs": [
    {
     "data": {
      "text/plain": [
       "0.7286705530970293"
      ]
     },
     "execution_count": 8,
     "metadata": {},
     "output_type": "execute_result"
    }
   ],
   "source": [
    "indTest.pvalue"
   ]
  },
  {
   "cell_type": "code",
   "execution_count": 9,
   "id": "e0bef24d",
   "metadata": {},
   "outputs": [
    {
     "name": "stdout",
     "output_type": "stream",
     "text": [
      "Fail to reject\n"
     ]
    }
   ],
   "source": [
    "# Decision\n",
    "alpha = 0.05\n",
    "\n",
    "if indTest.pvalue < alpha:\n",
    "    print(\"Reject the Null\")\n",
    "else:\n",
    "    print(\"Fail to reject\")"
   ]
  },
  {
   "cell_type": "markdown",
   "id": "754b0133",
   "metadata": {},
   "source": [
    "## Blood Pressure Example"
   ]
  },
  {
   "cell_type": "code",
   "execution_count": 10,
   "id": "df6d5844",
   "metadata": {},
   "outputs": [
    {
     "data": {
      "text/plain": [
       "Ttest_indResult(statistic=10.4676374161062, pvalue=1.4200116519875262e-24)"
      ]
     },
     "execution_count": 10,
     "metadata": {},
     "output_type": "execute_result"
    }
   ],
   "source": [
    "stats.ttest_ind_from_stats(mean1=10.67, std1=3.895, nobs1=500,\n",
    "                          mean2=7.83, std2=4.224, nobs2=400, alternative='greater')"
   ]
  },
  {
   "cell_type": "code",
   "execution_count": 11,
   "id": "8bc37e26",
   "metadata": {},
   "outputs": [
    {
     "data": {
      "text/plain": [
       "Ttest_indResult(statistic=1.048112362171905, pvalue=0.16471063434733127)"
      ]
     },
     "execution_count": 11,
     "metadata": {},
     "output_type": "execute_result"
    }
   ],
   "source": [
    "stats.ttest_ind_from_stats(mean1=10.67, std1=3.895, nobs1=5,\n",
    "                          mean2=7.83, std2=4.224, nobs2=4, alternative='greater')"
   ]
  },
  {
   "cell_type": "code",
   "execution_count": null,
   "id": "9ba0020f",
   "metadata": {},
   "outputs": [],
   "source": []
  }
 ],
 "metadata": {
  "kernelspec": {
   "display_name": "Python 3",
   "language": "python",
   "name": "python3"
  },
  "language_info": {
   "codemirror_mode": {
    "name": "ipython",
    "version": 3
   },
   "file_extension": ".py",
   "mimetype": "text/x-python",
   "name": "python",
   "nbconvert_exporter": "python",
   "pygments_lexer": "ipython3",
   "version": "3.8.8"
  }
 },
 "nbformat": 4,
 "nbformat_minor": 5
}
