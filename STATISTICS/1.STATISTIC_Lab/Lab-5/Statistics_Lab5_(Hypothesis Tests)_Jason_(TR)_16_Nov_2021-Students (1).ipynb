{
 "cells": [
  {
   "cell_type": "code",
   "execution_count": 1,
   "metadata": {},
   "outputs": [
    {
     "name": "stdout",
     "output_type": "stream",
     "text": [
      "1.6.2\n"
     ]
    }
   ],
   "source": [
    "# Check Scipy version\n",
    "import scipy\n",
    "print(scipy.__version__)"
   ]
  },
  {
   "cell_type": "markdown",
   "metadata": {},
   "source": [
    "Tutorial\n",
    "https://docs.anaconda.com/anaconda/navigator/tutorials/manage-packages/"
   ]
  },
  {
   "cell_type": "code",
   "execution_count": 2,
   "metadata": {},
   "outputs": [],
   "source": [
    "# Import pandas, numpy, scip.stats\n",
    "import pandas as pd\n",
    "import numpy as np\n",
    "from scipy import stats"
   ]
  },
  {
   "cell_type": "markdown",
   "metadata": {},
   "source": [
    "## One Sample T Test"
   ]
  },
  {
   "cell_type": "markdown",
   "metadata": {},
   "source": [
    "- According to Reynolds Intellectual Ability Scales, the average VIQ (Verbal IQ scores based on the four Wechsler (1981) subtests) is about 109.\n",
    "\n",
    "- In our sample data, we have a sample of 40 cases. \n",
    "- Let's test if the average VIQ of people is significantly bigger than 109."
   ]
  },
  {
   "cell_type": "code",
   "execution_count": 3,
   "metadata": {},
   "outputs": [],
   "source": [
    "# Brain size and weight and IQ data (Willerman et al. 1991)\n",
    "df = pd.read_csv(\"brain_size.csv\", sep=\";\", na_values = \".\", index_col = 0)"
   ]
  },
  {
   "cell_type": "markdown",
   "metadata": {},
   "source": [
    "read_csv(reader: Any, sep: str = ..., delimiter: str | None = ..., header: int | Sequence[int] | str = ..., names: Sequence[str] | None = ..., index_col: int | str | Sequence | Literal[False] | None = ..., usecols: int | str | Sequence | None = ..., squeeze: bool = ..., prefix: str | None = ..., mangle_dupe_cols: bool = ..., dtype: str | Mapping[str, Any] | None = ..., engine: str | None = ..., converters: Mapping[int | str, (...) -> Any] | None = ..., true_values: Sequence[Scalar] | None = ..., false_values: Sequence[Scalar] | None = ..., skipinitialspace: bool = ..., skiprows: Sequence | int | ((...) -> Any) | None = ..., skipfooter: int = ..., nrows: int | None = ..., na_values=..., keep_default_na: bool = ..., na_filter: bool = ..., verbose: bool = ..., skip_blank_lines: bool = ..., parse_dates: bool | List[int] | List[str] = ..., infer_datetime_format: bool = ..., keep_date_col: bool = ..., date_parser: ((...) -> Any) | None = ..., dayfirst: bool = ..., cache_dates: bool = ..., iterator: bool = ..., chunksize: int | None = ..., compression: str | None = ..., thousands: str | None = ..., decimal: str | None = ..., lineterminator: str | None = ..., quotechar: str = ..., quoting: int = ..., doublequote: bool = ..., escapechar: str | None = ..., comment: str | None = ..., encoding: str | None = ..., dialect: str | None = ..., error_bad_lines: bool = ..., warn_bad_lines: bool = ..., delim_whitespace: bool = ..., low_memory: bool = ..., memory_map: bool = ..., float_precision: str | None = ...) -> TextFileReader\n",
    "\n",
    "read_csv(filepath: FilePathOrBuffer, *, sep: str = ..., delimiter: str | None = ..., header: int | Sequence[int] | str | None = ..., names: Sequence[str] | None = ..., index_col: int | str | Sequence | bool | None = ..., usecols: int | str | Sequence | None = ..., squeeze: bool = ..., prefix: str | None = ..., mangle_dupe_cols: bool = ..., dtype: str | Mapping[str, Any] | None = ..., engine: str | None = ..., converters: Mapping[int | str, (...) -> Any] | None = ..., true_values: Sequence[Scalar] | None = ..., false_values: Sequence[Scalar] | None = ..., skipinitialspace: bool = ..., skiprows: Sequence | int | ((...) -> Any) | None = ..., skipfooter: int = ..., nrows: int | None = ..., na_values=..., keep_default_na: bool = ..., na_filter: bool = ..., verbose: bool = ..., skip_blank_lines: bool = ..., parse_dates: bool | List[int] | List[str] = ..., infer_datetime_format: bool = ..., keep_date_col: bool = ..., date_parser: ((...) -> Any) | None = ..., dayfirst: bool = ..., cache_dates: bool = ..., iterator: Literal[False], chunksize: int, compression: str | None = ..., thousands: str | None = ..., decimal: str | None = ..., lineterminator: str | None = ..., quotechar: str = ..., quoting: int = ..., doublequote: bool = ..., escapechar: str | None = ..., comment: str | None = ..., encoding: str | None = ..., dialect: str | None = ..., error_bad_lines: bool = ..., warn_bad_lines: bool = ..., on_bad_lines: Literal['error', 'warn', 'skip'] = \"error\", delim_whitespace: bool = ..., low_memory: bool = ..., memory_map: bool = ..., float_precision: str | None = ..., storage_options: Any | None = ...) -> TextFileReader\n",
    "\n",
    "read_csv(filepath: FilePathOrBuffer, *, sep: str = ..., delimiter: str | None = ..., header: int | Sequence[int] | str | None = ..., names: Sequence[str] | None = ..., index_col: int | str | Sequence | bool | None = ..., usecols: int | str | Sequence | None = ..., squeeze: bool = ..., prefix: str | None = ..., mangle_dupe_cols: bool = ..., dtype: str | Mapping[str, Any] | None = ..., engine: str | None = ..., converters: Mapping[int | str, (...) -> Any] | None = ..., true_values: Sequence[Scalar] | None = ..., false_values: Sequence[Scalar] | None = ..., skipinitialspace: bool = ..., skiprows: Sequence | int | ((...) -> Any) | None = ..., skipfooter: int = ..., nrows: int | None = ..., na_values=..., keep_default_na: bool = ..., na_filter: bool = ..., verbose: bool = ..., skip_blank_lines: bool = ..., parse_dates: bool | List[int] | List[str] = ..., infer_datetime_format: bool = ..., keep_date_col: bool = ..., date_parser: ((...) -> Any) | None = ..., dayfirst: bool = ..., cache_dates: bool = ..., iterator: Literal[False] = ..., chunksize: None = ..., compression: str | None = ..., thousands: str | None = ..., decimal: str | None = ..., lineterminator: str | None = ..., quotechar: str = ..., quoting: int = ..., doublequote: bool = ..., escapechar: str | None = ..., comment: str | None = ..., encoding: str | None = ..., dialect: str | None = ..., error_bad_lines: bool = ..., warn_bad_lines: bool = ..., on_bad_lines: Literal['error', 'warn', 'skip'] = \"error\", delim_whitespace: bool = ..., low_memory: bool = ..., memory_map: bool = ..., float_precision: str | None = ..., storage_options: Any | None = ...) -> DataFrame\n",
    "\n",
    "read_csv(filepath: FilePathOrBuffer, *, sep: str = ..., delimiter: str | None = ..., header: int | Sequence[int] | str | None = ..., names: Sequence[str] | None = ..., index_col: int | str | Sequence | bool | None = ..., usecols: int | str | Sequence | None = ..., squeeze: bool = ..., prefix: str | None = ..., mangle_dupe_cols: bool = ..., dtype: str | Mapping[str, Any] | None = ..., engine: str | None = ..., converters: Mapping[int | str, (...) -> Any] | None = ..., true_values: Sequence[Scalar] | None = ..., false_values: Sequence[Scalar] | None = ..., skipinitialspace: bool = ..., skiprows: Sequence | int | ((...) -> Any) | None = ..., skipfooter: int = ..., nrows: int | None = ..., na_values=..., keep_default_na: bool = ..., na_filter: bool = ..., verbose: bool = ..., skip_blank_lines: bool = ..., parse_dates: bool | List[int] | List[str] = ..., infer_datetime_format: bool = ..., keep_date_col: bool = ..., date_parser: ((...) -> Any) | None = ..., dayfirst: bool = ..., cache_dates: bool = ..., iterator: bool = ..., chunksize: int = ..., compression: str | None = ..., thousands: str | None = ..., decimal: str | None = ..., lineterminator: str | None = ..., quotechar: str = ..., quoting: int = ..., doublequote: bool = ..., escapechar: str | None = ..., comment: str | None = ..., encoding: str | None = ..., dialect: str | None = ..., error_bad_lines: bool = ..., warn_bad_lines: bool = ..., on_bad_lines: Literal['error', 'warn', 'skip'] = \"error\", delim_whitespace: bool = ..., low_memory: bool = ..., memory_map: bool = ..., float_precision: str | None = ..., storage_options: Any | None = ...) -> TextFileReader\n",
    "\n",
    "read_csv(filepath: FilePathOrBuffer, sep: str = ..., delimiter: str | None = ..., header: int | Sequence[int] | str | None = ..., names: Sequence[str] | None = ..., index_col: int | str | Sequence | bool | None = ..., usecols: int | str | Sequence | None = ..., squeeze: bool = ..., prefix: str | None = ..., mangle_dupe_cols: bool = ..., dtype: str | Mapping[str, Any] | None = ..., engine: str | None = ..., converters: Mapping[int | str, (...) -> Any] | None = ..., true_values: Sequence[Scalar] | None = ..., false_values: Sequence[Scalar] | None = ..., skipinitialspace: bool = ..., skiprows: Sequence | int | ((...) -> Any) | None = ..., skipfooter: int = ..., nrows: int | None = ..., na_values=..., keep_default_na: bool = ..., na_filter: bool = ..., verbose: bool = ..., skip_blank_lines: bool = ..., parse_dates: bool | List[int] | List[str] = ..., infer_datetime_format: bool = ..., keep_date_col: bool = ..., date_parser: ((...) -> Any) | None = ..., dayfirst: bool = ..., cache_dates: bool = ..., iterator: bool = ..., chunksize: int = ..., compression: str | None = ..., thousands: str | None = ..., decimal: str | None = ..., lineterminator: str | None = ..., quotechar: str = ..., quoting: int = ..., doublequote: bool = ..., escapechar: str | None = ..., comment: str | None = ..., encoding: str | None = ..., dialect: str | None = ..., error_bad_lines: bool = ..., warn_bad_lines: bool = ..., on_bad_lines: Literal['error', 'warn', 'skip'] = \"error\", delim_whitespace: bool = ..., low_memory: bool = ..., memory_map: bool = ..., float_precision: str | None = ..., storage_options: Any | None = ...) -> DataFrame\n",
    "Read a comma-separated values (csv) file into DataFrame.\n",
    "\n",
    "Also supports optionally iterating or breaking of the file into chunks.\n",
    "\n",
    "Additional help can be found in the online docs for\n",
    "IO Tools <https://pandas.pydata.org/pandas-docs/stable/user_guide/io.html>_.\n",
    "\n",
    "Parameters\n",
    "filepath_or_buffer : str, path object or file-like object\n",
    "    Any valid string path is acceptable. The string could be a URL. Valid URL schemes include http, ftp, s3, and file. For file URLs, a host is expected. A local file could be: file://localhost/path/to/table.csv.\n",
    "\n",
    "    If you want to pass in a path object, pandas accepts any os.PathLike.\n",
    "\n",
    "    By file-like object, we refer to objects with a read() method, such as a file handler (e.g. via builtin open function) or StringIO.\n",
    "sep : str, default ','\n",
    "    Delimiter to use. If sep is None, the C engine cannot automatically detect the separator, but the Python parsing engine can, meaning the latter will be used and automatically detect the separator by Python's builtin sniffer tool, csv.Sniffer. In addition, separators longer than 1 character and different from '\\s+' will be interpreted as regular expressions and will also force the use of the Python parsing engine. Note that regex\n",
    "    delimiters are prone to ignoring quoted data. Regex example: ' '.\n",
    "delimiter : str, default None\n",
    "    Alias for sep.\n",
    "header : int, list of int, default 'infer'\n",
    "    Row number(s) to use as the column names, and the start of the\n",
    "    data. Default behavior is to infer the column names: if no names are passed the behavior is identical to header=0 and column names are inferred from the first line of the file, if column names are passed explicitly then the behavior is identical to header=None. Explicitly pass header=0 to be able to replace existing names. The header can be a list of integers that specify row locations for a multi-index on the columns e.g. [0,1,3]. Intervening rows that are not specified will be skipped (e.g. 2 in this example is skipped). Note that this parameter ignores commented lines and empty lines if skip_blank_lines=True, so header=0 denotes the first line of data rather than the first line of the file.\n",
    "names : array-like, optional\n",
    "    List of column names to use. If the file contains a header row, then you should explicitly pass header=0 to override the column names. Duplicates in this list are not allowed.\n",
    "index_col : int, str, sequence of int / str, or False, default None\n",
    "  Column(s) to use as the row labels of the DataFrame, either given as string name or column index. If a sequence of int / str is given, a MultiIndex is used.\n",
    "\n",
    "  Note: index_col=False can be used to force pandas to *not* use the first column as the index, e.g. when you have a malformed file with delimiters at the end of each line.\n",
    "usecols : list-like or callable, optional\n",
    "    Return a subset of the columns. If list-like, all elements must either be positional (i.e. integer indices into the document columns) or strings that correspond to column names provided either by the user in names or inferred from the document header row(s). For example, a valid list-like usecols parameter would be [0, 1, 2] or ['foo', 'bar', 'baz']. Element order is ignored, so usecols=[0, 1] is the same as [1, 0]. To instantiate a DataFrame from data with element order preserved use pd.read_csv(data, usecols=['foo', 'bar'])[['foo', 'bar']] for columns in ['foo', 'bar'] order or pd.read_csv(data, usecols=['foo', 'bar'])[['bar', 'foo']] for ['bar', 'foo'] order.\n",
    "\n",
    "    If callable, the callable function will be evaluated against the column names, returning names where the callable function evaluates to True. An\n",
    "    example of a valid callable argument would be lambda x: x.upper() in ['AAA', 'BBB', 'DDD']. Using this parameter results in much faster parsing time and lower memory usage.\n",
    "squeeze : bool, default False\n",
    "    If the parsed data only contains one column then return a Series.\n",
    "prefix : str, optional\n",
    "    Prefix to add to column numbers when no header, e.g. 'X' for X0, X1, ...\n",
    "mangle_dupe_cols : bool, default True\n",
    "    Duplicate columns will be specified as 'X', 'X.1', ...'X.N', rather than 'X'...'X'. Passing in False will cause data to be overwritten if there are duplicate names in the columns.\n",
    "dtype : Type name or dict of column -> type, optional\n",
    "    Data type for data or columns. E.g. {'a': np.float64, 'b': np.int32,\n",
    "    'c': 'Int64'} Use str or object together with suitable na_values settings to preserve and not interpret dtype. If converters are specified, they will be applied INSTEAD of dtype conversion.\n",
    "engine : {'c', 'python'}, optional\n",
    "    Parser engine to use. The C engine is faster while the python engine is currently more feature-complete.\n",
    "converters : dict, optional\n",
    "    Dict of functions for converting values in certain columns. Keys can either be integers or column labels.\n",
    "true_values : list, optional\n",
    "    Values to consider as True.\n",
    "false_values : list, optional\n",
    "    Values to consider as False.\n",
    "skipinitialspace : bool, default False\n",
    "    Skip spaces after delimiter.\n",
    "skiprows : list-like, int or callable, optional\n",
    "    Line numbers to skip (0-indexed) or number of lines to skip (int) at the start of the file.\n",
    "\n",
    "    If callable, the callable function will be evaluated against the row indices, returning True if the row should be skipped and False otherwise.\n",
    "    An example of a valid callable argument would be lambda x: x in [0, 2].\n",
    "skipfooter : int, default 0\n",
    "    Number of lines at bottom of file to skip (Unsupported with engine='c').\n",
    "nrows : int, optional\n",
    "    Number of rows of file to read. Useful for reading pieces of large files.\n",
    "na_values : scalar, str, list-like, or dict, optional\n",
    "    Additional strings to recognize as NA/NaN. If dict passed, specific per-column NA values. By default the following values are interpreted as\n",
    "    NaN: '', '#N/A', '#N/A N/A', '#NA', '-1.#IND', '-1.#QNAN', '-NaN', '-nan', '1.#IND', '1.#QNAN', '<NA>', 'N/A', 'NA', 'NULL', 'NaN', 'n/a', 'nan', 'null'.\n",
    "keep_default_na : bool, default True\n",
    "    Whether or not to include the default NaN values when parsing the data. Depending on whether na_values is passed in, the behavior is as follows:\n",
    "\n",
    "If keep_default_na is True, and na_values are specified, na_values is appended to the default NaN values used for parsing.\n",
    "If keep_default_na is True, and na_values are not specified, only the default NaN values are used for parsing.\n",
    "If keep_default_na is False, and na_values are specified, only the NaN values specified na_values are used for parsing.\n",
    "If keep_default_na is False, and na_values are not specified, no strings will be parsed as NaN.\n",
    "    Note that if na_filter is passed in as False, the keep_default_na and na_values parameters will be ignored.\n",
    "na_filter : bool, default True\n",
    "    Detect missing value markers (empty strings and the value of na_values). In data without any NAs, passing na_filter=False can improve the performance of reading a large file.\n",
    "verbose : bool, default False\n",
    "    Indicate number of NA values placed in non-numeric columns.\n",
    "skip_blank_lines : bool, default True\n",
    "    If True, skip over blank lines rather than interpreting as NaN values.\n",
    "parse_dates : bool or list of int or names or list of lists or dict, default False\n",
    "    The behavior is as follows:\n",
    "\n",
    "boolean. If True -> try parsing the index.\n",
    "list of int or names. e.g. If [1, 2, 3] -> try parsing columns 1, 2, 3 each as a separate date column.\n",
    "list of lists. e.g. If [[1, 3]] -> combine columns 1 and 3 and parse as a single date column.\n",
    "dict, e.g. {'foo' : [1, 3]} -> parse columns 1, 3 as date and call result 'foo'\n",
    "    If a column or index cannot be represented as an array of datetimes, say because of an unparseable value or a mixture of timezones, the column or index will be returned unaltered as an object data type. For non-standard datetime parsing, use pd.to_datetime after pd.read_csv. To parse an index or column with a mixture of timezones, specify date_parser to be a partially-applied pandas.to_datetime with utc=True. See io.csv.mixed_timezones for more.\n",
    "\n",
    "    Note: A fast-path exists for iso8601-formatted dates.\n",
    "infer_datetime_format : bool, default False\n",
    "    If True and parse_dates is enabled, pandas will attempt to infer the format of the datetime strings in the columns, and if it can be inferred, switch to a faster method of parsing them. In some cases this can increase the parsing speed by 5-10x.\n",
    "keep_date_col : bool, default False\n",
    "    If True and parse_dates specifies combining multiple columns then keep the original columns.\n",
    "date_parser : function, optional\n",
    "    Function to use for converting a sequence of string columns to an array of datetime instances. The default uses dateutil.parser.parser to do the conversion. Pandas will try to call date_parser in three different ways,\n",
    "    advancing to the next if an exception occurs: 1) Pass one or more arrays (as defined by parse_dates) as arguments; 2) concatenate (row-wise) the string values from the columns defined by parse_dates into a single array and pass that; and 3) call date_parser once for each row using one or more strings (corresponding to the columns defined by parse_dates) as arguments.\n",
    "dayfirst : bool, default False\n",
    "    DD/MM format dates, international and European format.\n",
    "cache_dates : bool, default True\n",
    "    If True, use a cache of unique, converted dates to apply the datetime conversion. May produce significant speed-up when parsing duplicate date strings, especially ones with timezone offsets.\n",
    "\n",
    "iterator : bool, default False\n",
    "    Return TextFileReader object for iteration or getting chunks with get_chunk().\n",
    "chunksize : int, optional\n",
    "    Return TextFileReader object for iteration. See the IO Tools docs <https://pandas.pydata.org/pandas-docs/stable/io.html#io-chunking>_ for more information on iterator and chunksize.\n",
    "compression : {'infer', 'gzip', 'bz2', 'zip', 'xz', None}, default 'infer'\n",
    "    For on-the-fly decompression of on-disk data. If 'infer' and filepath_or_buffer is path-like, then detect compression from the\n",
    "    following extensions: '.gz', '.bz2', '.zip', or '.xz' (otherwise no decompression). If using 'zip', the ZIP file must contain only one data file to be read in. Set to None for no decompression.\n",
    "thousands : str, optional\n",
    "    Thousands separator.\n",
    "decimal : str, default '.'\n",
    "    Character to recognize as decimal point (e.g. use ',' for European data).\n",
    "lineterminator : str (length 1), optional\n",
    "    Character to break file into lines. Only valid with C parser.\n",
    "quotechar : str (length 1), optional\n",
    "    The character used to denote the start and end of a quoted item. Quoted items can include the delimiter and it will be ignored.\n",
    "quoting : int or csv.QUOTE_* instance, default 0\n",
    "    Control field quoting behavior per csv.QUOTE_* constants. Use one of QUOTE_MINIMAL (0), QUOTE_ALL (1), QUOTE_NONNUMERIC (2) or QUOTE_NONE (3).\n",
    "doublequote : bool, default True\n",
    "   When quotechar is specified and quoting is not QUOTE_NONE, indicate whether or not to interpret two consecutive quotechar elements INSIDE a field as a single quotechar element.\n",
    "escapechar : str (length 1), optional\n",
    "    One-character string used to escape other characters.\n",
    "comment : str, optional\n",
    "    Indicates remainder of line should not be parsed. If found at the beginning of a line, the line will be ignored altogether. This parameter must be a single character. Like empty lines (as long as skip_blank_lines=True), fully commented lines are ignored by the parameter header but not by skiprows. For example, if comment='#', parsing #empty\\ a,b,c 1,2,3 with header=0 will result in 'a,b,c' being\n",
    "    treated as the header.\n",
    "encoding : str, optional\n",
    "    Encoding to use for UTF when reading/writing (ex. 'utf-8'). List of Python standard encodings <https://docs.python.org/3/library/codecs.html#standard-encodings>_ .\n",
    "dialect : str or csv.Dialect, optional\n",
    "    If provided, this parameter will override values (default or not) for the\n",
    "    following parameters: delimiter, doublequote, escapechar, skipinitialspace, quotechar, and quoting. If it is necessary to override values, a ParserWarning will be issued. See csv.Dialect documentation for more details.\n",
    "error_bad_lines : bool, default True\n",
    "    Lines with too many fields (e.g. a csv line with too many commas) will by default cause an exception to be raised, and no DataFrame will be returned. If False, then these \"bad lines\" will dropped from the DataFrame that is returned.\n",
    "warn_bad_lines : bool, default True\n",
    "    If error_bad_lines is False, and warn_bad_lines is True, a warning for each \"bad line\" will be output.\n",
    "delim_whitespace : bool, default False\n",
    "    Specifies whether or not whitespace (e.g. ' ' or ' ') will be used as the sep. Equivalent to setting sep='\\s+'. If this option is set to True, nothing should be passed in for the delimiter parameter.\n",
    "low_memory : bool, default True\n",
    "    Internally process the file in chunks, resulting in lower memory use while parsing, but possibly mixed type inference. To ensure no mixed types either set False, or specify the type with the dtype parameter. Note that the entire file is read into a single DataFrame regardless, use the chunksize or iterator parameter to return the data in chunks. (Only valid with C parser).\n",
    "memory_map : bool, default False\n",
    "    If a filepath is provided for filepath_or_buffer, map the file object directly onto memory and access the data directly from there. Using this option can improve performance because there is no longer any I/O overhead.\n",
    "float_precision : str, optional\n",
    "    Specifies which converter the C engine should use for floating-point values. The options are None for the ordinary converter, high for the high-precision converter, and round_trip for the round-trip converter.\n",
    "\n",
    "Returns\n",
    "DataFrame or TextParser\n",
    "    A comma-separated values (csv) file is returned as two-dimensional data structure with labeled axes.\n",
    "\n",
    "See Also\n",
    "to_csv : Write DataFrame to a comma-separated values (csv) file.\n",
    "read_csv : Read a comma-separated values (csv) file into DataFrame.\n",
    "read_fwf : Read a table of fixed-width formatted lines into DataFrame.\n",
    "\n",
    "Examples\n",
    ">>> pd.read_csv('data.csv')  # doctest: +SKIP\n"
   ]
  },
  {
   "cell_type": "code",
   "execution_count": 4,
   "metadata": {},
   "outputs": [
    {
     "data": {
      "text/html": [
       "<div>\n",
       "<style scoped>\n",
       "    .dataframe tbody tr th:only-of-type {\n",
       "        vertical-align: middle;\n",
       "    }\n",
       "\n",
       "    .dataframe tbody tr th {\n",
       "        vertical-align: top;\n",
       "    }\n",
       "\n",
       "    .dataframe thead th {\n",
       "        text-align: right;\n",
       "    }\n",
       "</style>\n",
       "<table border=\"1\" class=\"dataframe\">\n",
       "  <thead>\n",
       "    <tr style=\"text-align: right;\">\n",
       "      <th></th>\n",
       "      <th>Gender</th>\n",
       "      <th>FSIQ</th>\n",
       "      <th>VIQ</th>\n",
       "      <th>PIQ</th>\n",
       "      <th>Weight</th>\n",
       "      <th>Height</th>\n",
       "      <th>MRI_Count</th>\n",
       "    </tr>\n",
       "  </thead>\n",
       "  <tbody>\n",
       "    <tr>\n",
       "      <th>1</th>\n",
       "      <td>Female</td>\n",
       "      <td>133</td>\n",
       "      <td>132</td>\n",
       "      <td>124</td>\n",
       "      <td>118.0</td>\n",
       "      <td>64.5</td>\n",
       "      <td>816932</td>\n",
       "    </tr>\n",
       "    <tr>\n",
       "      <th>2</th>\n",
       "      <td>Male</td>\n",
       "      <td>140</td>\n",
       "      <td>150</td>\n",
       "      <td>124</td>\n",
       "      <td>NaN</td>\n",
       "      <td>72.5</td>\n",
       "      <td>1001121</td>\n",
       "    </tr>\n",
       "    <tr>\n",
       "      <th>3</th>\n",
       "      <td>Male</td>\n",
       "      <td>139</td>\n",
       "      <td>123</td>\n",
       "      <td>150</td>\n",
       "      <td>143.0</td>\n",
       "      <td>73.3</td>\n",
       "      <td>1038437</td>\n",
       "    </tr>\n",
       "    <tr>\n",
       "      <th>4</th>\n",
       "      <td>Male</td>\n",
       "      <td>133</td>\n",
       "      <td>129</td>\n",
       "      <td>128</td>\n",
       "      <td>172.0</td>\n",
       "      <td>68.8</td>\n",
       "      <td>965353</td>\n",
       "    </tr>\n",
       "    <tr>\n",
       "      <th>5</th>\n",
       "      <td>Female</td>\n",
       "      <td>137</td>\n",
       "      <td>132</td>\n",
       "      <td>134</td>\n",
       "      <td>147.0</td>\n",
       "      <td>65.0</td>\n",
       "      <td>951545</td>\n",
       "    </tr>\n",
       "  </tbody>\n",
       "</table>\n",
       "</div>"
      ],
      "text/plain": [
       "   Gender  FSIQ  VIQ  PIQ  Weight  Height  MRI_Count\n",
       "1  Female   133  132  124   118.0    64.5     816932\n",
       "2    Male   140  150  124     NaN    72.5    1001121\n",
       "3    Male   139  123  150   143.0    73.3    1038437\n",
       "4    Male   133  129  128   172.0    68.8     965353\n",
       "5  Female   137  132  134   147.0    65.0     951545"
      ]
     },
     "execution_count": 4,
     "metadata": {},
     "output_type": "execute_result"
    }
   ],
   "source": [
    "df.head()"
   ]
  },
  {
   "cell_type": "code",
   "execution_count": 5,
   "metadata": {},
   "outputs": [],
   "source": [
    "# H0: mu = 109\n",
    "# H1: mu > 109"
   ]
  },
  {
   "cell_type": "code",
   "execution_count": 6,
   "metadata": {},
   "outputs": [
    {
     "data": {
      "text/plain": [
       "112.35"
      ]
     },
     "execution_count": 6,
     "metadata": {},
     "output_type": "execute_result"
    }
   ],
   "source": [
    "# Calculate the mean of VIQ\n",
    "xbar = df.VIQ.mean()\n",
    "xbar"
   ]
  },
  {
   "cell_type": "code",
   "execution_count": 32,
   "metadata": {},
   "outputs": [
    {
     "data": {
      "text/plain": [
       "23.616107063199735"
      ]
     },
     "execution_count": 32,
     "metadata": {},
     "output_type": "execute_result"
    }
   ],
   "source": [
    "# Calculate the std of VIQ\n",
    "s = df.VIQ.std()\n",
    "s"
   ]
  },
  {
   "cell_type": "code",
   "execution_count": 8,
   "metadata": {},
   "outputs": [
    {
     "data": {
      "text/plain": [
       "(40, 7)"
      ]
     },
     "execution_count": 8,
     "metadata": {},
     "output_type": "execute_result"
    }
   ],
   "source": [
    "df.shape"
   ]
  },
  {
   "cell_type": "code",
   "execution_count": 9,
   "metadata": {},
   "outputs": [],
   "source": [
    "# Calculate the test statistic\n",
    "t_test = (xbar - 109)/(s/np.sqrt(df.shape[0]))"
   ]
  },
  {
   "cell_type": "code",
   "execution_count": 10,
   "metadata": {},
   "outputs": [
    {
     "data": {
      "text/plain": [
       "0.8971529586323553"
      ]
     },
     "execution_count": 10,
     "metadata": {},
     "output_type": "execute_result"
    }
   ],
   "source": [
    "#test statistic\n",
    "t_test"
   ]
  },
  {
   "cell_type": "code",
   "execution_count": 11,
   "metadata": {},
   "outputs": [
    {
     "data": {
      "text/plain": [
       "0.18757115929257173"
      ]
     },
     "execution_count": 11,
     "metadata": {},
     "output_type": "execute_result"
    }
   ],
   "source": [
    "# Calculate p-value\n",
    "1 - stats.t.cdf(t_test, 39)"
   ]
  },
  {
   "cell_type": "markdown",
   "metadata": {},
   "source": [
    "(method) cdf: (x, *args, **kwds) -> Any\n",
    "Cumulative distribution function of the given RV.\n",
    "\n",
    "Parameters\n",
    "x : array_like\n",
    "    quantiles\n",
    "arg1, arg2, arg3,... : array_like\n",
    "    The shape parameter(s) for the distribution (see docstring of the instance object for more information)\n",
    "loc : array_like, optional\n",
    "    location parameter (default=0)\n",
    "scale : array_like, optional\n",
    "    scale parameter (default=1)\n",
    "\n",
    "Returns\n",
    "cdf : ndarray\n",
    "    Cumulative distribution function evaluated at x\n",
    "\n"
   ]
  },
  {
   "cell_type": "code",
   "execution_count": 12,
   "metadata": {},
   "outputs": [
    {
     "data": {
      "text/plain": [
       "Ttest_1sampResult(statistic=0.897152958632355, pvalue=0.1875711592925718)"
      ]
     },
     "execution_count": 12,
     "metadata": {},
     "output_type": "execute_result"
    }
   ],
   "source": [
    "# Use stats.ttest_1samp() to calculate the test statistic and p-value\n",
    "oneSamp = stats.ttest_1samp(df.VIQ, 109, alternative=\"greater\")\n",
    "oneSamp"
   ]
  },
  {
   "cell_type": "markdown",
   "metadata": {},
   "source": [
    "(function) ttest_1samp: (a, popmean, axis=0, nan_policy='propagate', alternative=\"two-sided\") -> (tuple[float, float] | Self@Ttest_1sampResult)\n",
    "Calculate the T-test for the mean of ONE group of scores.\n",
    "\n",
    "This is a two-sided test for the null hypothesis that the expected value (mean) of a sample of independent observations a is equal to the given population mean, popmean.\n",
    "\n",
    "Parameters\n",
    "a : array_like\n",
    "    Sample observation.\n",
    "popmean : float or array_like\n",
    "    Expected value in null hypothesis. If array_like, then it must have the same shape as a excluding the axis dimension.\n",
    "axis : int or None, optional\n",
    "    Axis along which to compute test; default is 0. If None, compute over the whole array a.\n",
    "nan_policy : {'propagate', 'raise', 'omit'}, optional\n",
    "    Defines how to handle when input contains nan. The following options are available (default is 'propagate'):\n",
    "\n",
    "'propagate': returns nan\n",
    "\n",
    "'raise': throws an error\n",
    "\n",
    "'omit': performs the calculations ignoring nan values alternative : {'two-sided', 'less', 'greater'}, optional Defines the alternative hypothesis. The following options are available (default is 'two-sided'):\n",
    "\n",
    "'two-sided'\n",
    "\n",
    "'less': one-sided\n",
    "\n",
    "'greater': one-sided\n",
    "\n",
    "Returns\n",
    "statistic : float or array\n",
    "    t-statistic.\n",
    "pvalue : float or array\n",
    "    Two-sided p-value.\n",
    "\n",
    "Examples\n",
    ">>> from scipy import stats\n",
    ">>> np.random.seed(7654567)  # fix seed to get the same result\n",
    ">>> rvs = stats.norm.rvs(loc=5, scale=10, size=(50,2))\n",
    "Test if mean of random sample is equal to true mean, and different mean. We reject the null hypothesis in the second case and don't reject it in the first case.\n",
    "\n",
    ">>> stats.ttest_1samp(rvs,5.0)\n",
    "(array([-0.68014479, -0.04323899]), array([ 0.49961383,  0.96568674]))\n",
    ">>> stats.ttest_1samp(rvs,0.0)\n",
    "(array([ 2.77025808,  4.11038784]), array([ 0.00789095,  0.00014999]))\n",
    "Examples using axis and non-scalar dimension for population mean.\n",
    "\n",
    ">>> result = stats.ttest_1samp(rvs, [5.0, 0.0])\n",
    ">>> result.statistic\n",
    "array([-0.68014479,  4.11038784]),\n",
    ">>> result.pvalue\n",
    "array([4.99613833e-01, 1.49986458e-04])\n",
    ">>> result = stats.ttest_1samp(rvs.T, [5.0, 0.0], axis=1)\n",
    ">>> result.statistic\n",
    "array([-0.68014479,  4.11038784])\n",
    ">>> result.pvalue\n",
    "array([4.99613833e-01, 1.49986458e-04])\n",
    ">>> result = stats.ttest_1samp(rvs, [[5.0], [0.0]])\n",
    ">>> result.statistic\n",
    "array([[-0.68014479, -0.04323899],\n",
    "       [ 2.77025808,  4.11038784]])\n",
    ">>> result.pvalue\n",
    "array([[4.99613833e-01, 9.65686743e-01],\n",
    "       [7.89094663e-03, 1.49986458e-04]])\n"
   ]
  },
  {
   "cell_type": "code",
   "execution_count": 13,
   "metadata": {},
   "outputs": [
    {
     "data": {
      "text/plain": [
       "0.1875711592925718"
      ]
     },
     "execution_count": 13,
     "metadata": {},
     "output_type": "execute_result"
    }
   ],
   "source": [
    "#Display p-value\n",
    "oneSamp.pvalue"
   ]
  },
  {
   "cell_type": "code",
   "execution_count": 14,
   "metadata": {},
   "outputs": [
    {
     "name": "stdout",
     "output_type": "stream",
     "text": [
      "Fail to reject the null\n"
     ]
    }
   ],
   "source": [
    "# Compare p-value and alpha\n",
    "alpha = 0.05\n",
    "\n",
    "if oneSamp.pvalue < alpha:\n",
    "    print(\"Reject the null\")\n",
    "else:\n",
    "    print(\"Fail to reject the null\")"
   ]
  },
  {
   "cell_type": "markdown",
   "metadata": {},
   "source": [
    "# Independent Samples T Test"
   ]
  },
  {
   "cell_type": "markdown",
   "metadata": {},
   "source": [
    "## Arsenic Example"
   ]
  },
  {
   "cell_type": "markdown",
   "metadata": {},
   "source": [
    "- Arsenic concentration in public drinking water supplies is a potential health risk. \n",
    "- An article in the Arizona Republic (May 27, 2001) reported drinking water arsenic concentrations in parts per billion (ppb) for 10 metropolitan Phoenix communities and 10 communities in rural Arizona.\n",
    "- You can find the data in CSV file."
   ]
  },
  {
   "cell_type": "markdown",
   "metadata": {},
   "source": [
    "Determine if there is any difference in mean arsenic concentrations between metropolitan Phoenix communities and communities in rural Arizona."
   ]
  },
  {
   "cell_type": "code",
   "execution_count": 15,
   "metadata": {},
   "outputs": [],
   "source": [
    "#Import arsenic dataset\n",
    "arsenic = pd.read_csv(\"arsenic.csv\")"
   ]
  },
  {
   "cell_type": "code",
   "execution_count": 16,
   "metadata": {},
   "outputs": [
    {
     "data": {
      "text/html": [
       "<div>\n",
       "<style scoped>\n",
       "    .dataframe tbody tr th:only-of-type {\n",
       "        vertical-align: middle;\n",
       "    }\n",
       "\n",
       "    .dataframe tbody tr th {\n",
       "        vertical-align: top;\n",
       "    }\n",
       "\n",
       "    .dataframe thead th {\n",
       "        text-align: right;\n",
       "    }\n",
       "</style>\n",
       "<table border=\"1\" class=\"dataframe\">\n",
       "  <thead>\n",
       "    <tr style=\"text-align: right;\">\n",
       "      <th></th>\n",
       "      <th>Metro Phoenix</th>\n",
       "      <th>x1</th>\n",
       "      <th>Rural Arizona</th>\n",
       "      <th>x2</th>\n",
       "    </tr>\n",
       "  </thead>\n",
       "  <tbody>\n",
       "    <tr>\n",
       "      <th>0</th>\n",
       "      <td>Phoenix</td>\n",
       "      <td>3</td>\n",
       "      <td>Rimrock</td>\n",
       "      <td>48</td>\n",
       "    </tr>\n",
       "    <tr>\n",
       "      <th>1</th>\n",
       "      <td>Chandler</td>\n",
       "      <td>7</td>\n",
       "      <td>Goodyear</td>\n",
       "      <td>44</td>\n",
       "    </tr>\n",
       "    <tr>\n",
       "      <th>2</th>\n",
       "      <td>Gilbert</td>\n",
       "      <td>25</td>\n",
       "      <td>New River</td>\n",
       "      <td>40</td>\n",
       "    </tr>\n",
       "    <tr>\n",
       "      <th>3</th>\n",
       "      <td>Glendale</td>\n",
       "      <td>10</td>\n",
       "      <td>Apache Junction</td>\n",
       "      <td>38</td>\n",
       "    </tr>\n",
       "    <tr>\n",
       "      <th>4</th>\n",
       "      <td>Mesa</td>\n",
       "      <td>15</td>\n",
       "      <td>Buckeye</td>\n",
       "      <td>33</td>\n",
       "    </tr>\n",
       "    <tr>\n",
       "      <th>5</th>\n",
       "      <td>Paradise Valley</td>\n",
       "      <td>6</td>\n",
       "      <td>Nogales</td>\n",
       "      <td>21</td>\n",
       "    </tr>\n",
       "    <tr>\n",
       "      <th>6</th>\n",
       "      <td>Peoria</td>\n",
       "      <td>12</td>\n",
       "      <td>Black Canyon City</td>\n",
       "      <td>20</td>\n",
       "    </tr>\n",
       "    <tr>\n",
       "      <th>7</th>\n",
       "      <td>Scottsdale</td>\n",
       "      <td>25</td>\n",
       "      <td>Sedona</td>\n",
       "      <td>12</td>\n",
       "    </tr>\n",
       "    <tr>\n",
       "      <th>8</th>\n",
       "      <td>Tempe</td>\n",
       "      <td>15</td>\n",
       "      <td>Payson</td>\n",
       "      <td>1</td>\n",
       "    </tr>\n",
       "    <tr>\n",
       "      <th>9</th>\n",
       "      <td>Sun City</td>\n",
       "      <td>7</td>\n",
       "      <td>Casa Grande</td>\n",
       "      <td>18</td>\n",
       "    </tr>\n",
       "  </tbody>\n",
       "</table>\n",
       "</div>"
      ],
      "text/plain": [
       "     Metro Phoenix  x1      Rural Arizona  x2\n",
       "0          Phoenix   3            Rimrock  48\n",
       "1         Chandler   7           Goodyear  44\n",
       "2          Gilbert  25          New River  40\n",
       "3         Glendale  10    Apache Junction  38\n",
       "4             Mesa  15            Buckeye  33\n",
       "5  Paradise Valley   6            Nogales  21\n",
       "6           Peoria  12  Black Canyon City  20\n",
       "7       Scottsdale  25             Sedona  12\n",
       "8            Tempe  15             Payson   1\n",
       "9         Sun City   7        Casa Grande  18"
      ]
     },
     "execution_count": 16,
     "metadata": {},
     "output_type": "execute_result"
    }
   ],
   "source": [
    "arsenic"
   ]
  },
  {
   "cell_type": "code",
   "execution_count": 17,
   "metadata": {},
   "outputs": [],
   "source": [
    "#H0: mu1 = mu2\n",
    "#H1: mu1 != mu2"
   ]
  },
  {
   "cell_type": "code",
   "execution_count": 18,
   "metadata": {},
   "outputs": [
    {
     "data": {
      "text/plain": [
       "LeveneResult(statistic=7.7015516672169, pvalue=0.012482954069299166)"
      ]
     },
     "execution_count": 18,
     "metadata": {},
     "output_type": "execute_result"
    }
   ],
   "source": [
    "#Perform Levene test for equal variances\n",
    "#H0: The population variances are equal\n",
    "#H1: There is a difference between the variances in the population\n",
    "#The small p-value suggests that the populations do not have equal variances.\n",
    "leveneTest = stats.levene(arsenic.x1, arsenic.x2)\n",
    "leveneTest"
   ]
  },
  {
   "cell_type": "markdown",
   "metadata": {},
   "source": [
    "(function) levene: (*args, center='median', proportiontocut=0.05) -> Self@LeveneResult\n",
    "Perform Levene test for equal variances.\n",
    "\n",
    "The Levene test tests the null hypothesis that all input samples are from populations with equal variances. Levene's test is an alternative to Bartlett's test bartlett in the case where there are significant deviations from normality.\n",
    "\n",
    "Parameters\n",
    "sample1, sample2, ... : array_like\n",
    "    The sample data, possibly with different lengths. Only one-dimensional samples are accepted.\n",
    "center : {'mean', 'median', 'trimmed'}, optional\n",
    "    Which function of the data to use in the test. The default is 'median'.\n",
    "proportiontocut : float, optional\n",
    "    When center is 'trimmed', this gives the proportion of data points to cut from each end. (See scipy.stats.trim_mean.) Default is 0.05.\n",
    "\n",
    "Returns\n",
    "statistic : float\n",
    "    The test statistic.\n",
    "pvalue : float\n",
    "    The p-value for the test.\n",
    "\n",
    "Notes\n",
    "Three variations of Levene's test are possible. The possibilities and their recommended usages are:\n",
    "\n",
    "'median' : Recommended for skewed (non-normal) distributions>\n",
    "'mean' : Recommended for symmetric, moderate-tailed distributions.\n",
    "'trimmed' : Recommended for heavy-tailed distributions.\n",
    "The test version using the mean was proposed in the original article of Levene ([2]_) while the median and trimmed mean have been studied by Brown and Forsythe ([3]_), sometimes also referred to as Brown-Forsythe test.\n",
    "\n",
    "References\n",
    "Examples\n",
    "Test whether or not the lists a, b and c come from populations with equal variances.\n",
    "\n",
    ">>> from scipy.stats import levene\n",
    ">>> a = [8.88, 9.12, 9.04, 8.98, 9.00, 9.08, 9.01, 8.85, 9.06, 8.99]\n",
    ">>> b = [8.88, 8.95, 9.29, 9.44, 9.15, 9.58, 8.36, 9.18, 8.67, 9.05]\n",
    ">>> c = [8.95, 9.12, 8.95, 8.85, 9.03, 8.84, 9.07, 8.98, 8.86, 8.98]\n",
    ">>> stat, p = levene(a, b, c)\n",
    ">>> p\n",
    "0.002431505967249681\n",
    "The small p-value suggests that the populations do not have equal variances.\n",
    "\n",
    "This is not surprising, given that the sample variance of b is much larger than that of a and c:\n",
    "\n",
    ">>> [np.var(x, ddof=1) for x in [a, b, c]]\n",
    "[0.007054444444444413, 0.13073888888888888, 0.008890000000000002]\n"
   ]
  },
  {
   "cell_type": "code",
   "execution_count": 19,
   "metadata": {},
   "outputs": [
    {
     "data": {
      "text/plain": [
       "12.5"
      ]
     },
     "execution_count": 19,
     "metadata": {},
     "output_type": "execute_result"
    }
   ],
   "source": [
    "# average Metro Phoenix\n",
    "arsenic.x1.mean()"
   ]
  },
  {
   "cell_type": "code",
   "execution_count": 20,
   "metadata": {},
   "outputs": [
    {
     "data": {
      "text/plain": [
       "27.5"
      ]
     },
     "execution_count": 20,
     "metadata": {},
     "output_type": "execute_result"
    }
   ],
   "source": [
    "# average Rural Arizona\n",
    "arsenic.x2.mean()"
   ]
  },
  {
   "cell_type": "markdown",
   "metadata": {},
   "source": [
    "Calculate the T-test for the means of two independent samples of scores."
   ]
  },
  {
   "cell_type": "code",
   "execution_count": 21,
   "metadata": {},
   "outputs": [],
   "source": [
    "# H0: mu1 = mu2\n",
    "# H1: mu1 != mu2"
   ]
  },
  {
   "cell_type": "code",
   "execution_count": 22,
   "metadata": {},
   "outputs": [],
   "source": [
    "# Calculate test statistics using stats.ttest_ind()\n",
    "indTest = stats.ttest_ind(arsenic.x1, arsenic.x2, equal_var = False)"
   ]
  },
  {
   "cell_type": "markdown",
   "metadata": {},
   "source": [
    "(function) ttest_ind: (a, b, axis=0, equal_var=True, nan_policy='propagate', alternative=\"two-sided\") -> Any\n",
    "Calculate the T-test for the means of *two independent* samples of scores.\n",
    "\n",
    "This is a two-sided test for the null hypothesis that 2 independent samples have identical average (expected) values. This test assumes that the populations have identical variances by default.\n",
    "\n",
    "Parameters\n",
    "a, b : array_like\n",
    "    The arrays must have the same shape, except in the dimension corresponding to axis (the first, by default).\n",
    "axis : int or None, optional\n",
    "    Axis along which to compute test. If None, compute over the whole arrays, a, and b.\n",
    "equal_var : bool, optional\n",
    "    If True (default), perform a standard independent 2 sample test that assumes equal population variances [1]_. If False, perform Welch's t-test, which does not assume equal population variance [2]_.\n",
    "\n",
    "nan_policy : {'propagate', 'raise', 'omit'}, optional\n",
    "    Defines how to handle when input contains nan. The following options are available (default is 'propagate'):\n",
    "\n",
    "'propagate': returns nan\n",
    "\n",
    "'raise': throws an error\n",
    "\n",
    "'omit': performs the calculations ignoring nan values alternative : {'two-sided', 'less', 'greater'}, optional Defines the alternative hypothesis. The following options are available (default is 'two-sided'):\n",
    "\n",
    "'two-sided'\n",
    "\n",
    "'less': one-sided\n",
    "\n",
    "'greater': one-sided\n",
    "\n",
    "Returns\n",
    "statistic : float or array\n",
    "    The calculated t-statistic.\n",
    "pvalue : float or array\n",
    "    The two-tailed p-value.\n",
    "\n",
    "Notes\n",
    "We can use this test, if we observe two independent samples from the same or different population, e.g. exam scores of boys and girls or of two ethnic groups. The test measures whether the average (expected) value differs significantly across samples. If we observe a large p-value, for example larger than 0.05 or 0.1, then we cannot reject the null hypothesis of identical average scores. If the p-value is smaller than the threshold, e.g. 1%, 5% or 10%, then we reject the null hypothesis of equal averages.\n",
    "\n",
    "References\n",
    "Examples\n",
    ">>> from scipy import stats\n",
    ">>> np.random.seed(12345678)\n",
    "Test with sample with identical means:\n",
    "\n",
    ">>> rvs1 = stats.norm.rvs(loc=5,scale=10,size=500)\n",
    ">>> rvs2 = stats.norm.rvs(loc=5,scale=10,size=500)\n",
    ">>> stats.ttest_ind(rvs1,rvs2)\n",
    "(0.26833823296239279, 0.78849443369564776)\n",
    ">>> stats.ttest_ind(rvs1,rvs2, equal_var = False)\n",
    "(0.26833823296239279, 0.78849452749500748)\n",
    "ttest_ind underestimates p for unequal variances:\n",
    "\n",
    ">>> rvs3 = stats.norm.rvs(loc=5, scale=20, size=500)\n",
    ">>> stats.ttest_ind(rvs1, rvs3)\n",
    "(-0.46580283298287162, 0.64145827413436174)\n",
    ">>> stats.ttest_ind(rvs1, rvs3, equal_var = False)\n",
    "(-0.46580283298287162, 0.64149646246569292)\n",
    "When n1 != n2, the equal variance t-statistic is no longer equal to the unequal variance t-statistic:\n",
    "\n",
    ">>> rvs4 = stats.norm.rvs(loc=5, scale=20, size=100)\n",
    ">>> stats.ttest_ind(rvs1, rvs4)\n",
    "(-0.99882539442782481, 0.3182832709103896)\n",
    ">>> stats.ttest_ind(rvs1, rvs4, equal_var = False)\n",
    "(-0.69712570584654099, 0.48716927725402048)\n",
    "T-test with different means, variance, and n:\n",
    "\n",
    ">>> rvs5 = stats.norm.rvs(loc=8, scale=20, size=100)\n",
    ">>> stats.ttest_ind(rvs1, rvs5)\n",
    "(-1.4679669854490653, 0.14263895620529152)\n",
    ">>> stats.ttest_ind(rvs1, rvs5, equal_var = False)\n",
    "(-0.94365973617132992, 0.34744170334794122)\n"
   ]
  },
  {
   "cell_type": "code",
   "execution_count": 23,
   "metadata": {},
   "outputs": [
    {
     "data": {
      "text/plain": [
       "-2.7669395785560558"
      ]
     },
     "execution_count": 23,
     "metadata": {},
     "output_type": "execute_result"
    }
   ],
   "source": [
    "indTest.statistic"
   ]
  },
  {
   "cell_type": "code",
   "execution_count": 24,
   "metadata": {},
   "outputs": [
    {
     "data": {
      "text/plain": [
       "0.015827284816100885"
      ]
     },
     "execution_count": 24,
     "metadata": {},
     "output_type": "execute_result"
    }
   ],
   "source": [
    "indTest.pvalue"
   ]
  },
  {
   "cell_type": "code",
   "execution_count": 25,
   "metadata": {},
   "outputs": [
    {
     "name": "stdout",
     "output_type": "stream",
     "text": [
      "Reject the null\n"
     ]
    }
   ],
   "source": [
    "# Decision\n",
    "alpha = 0.05\n",
    "\n",
    "if indTest.pvalue < alpha:\n",
    "    print(\"Reject the null\")\n",
    "else:\n",
    "    print(\"Fail to reject the null\")"
   ]
  },
  {
   "cell_type": "code",
   "execution_count": null,
   "metadata": {},
   "outputs": [],
   "source": []
  },
  {
   "cell_type": "markdown",
   "metadata": {},
   "source": [
    "# Paired (Dependent) Samples T Test"
   ]
  },
  {
   "cell_type": "markdown",
   "metadata": {},
   "source": [
    "## Prozac Data"
   ]
  },
  {
   "cell_type": "markdown",
   "metadata": {},
   "source": [
    "- Let us consider a simple example of what is often termed \"pre/post\" data or \"pretest/posttest\" data. \n",
    "- Suppose you wish to test the effect of Prozac on the well-being of depressed individuals, using a standardised \"well-being scale\" that sums Likert-type items to obtain a score that could range from 0 to 20. \n",
    "- Higher scores indicate greater well-being (that is, Prozac is having a positive effect). \n",
    "- While there are flaws in this design (e.g., lack of a control group) it will serve as an example of how to analyse such data."
   ]
  },
  {
   "cell_type": "markdown",
   "metadata": {},
   "source": [
    "Determine if Prozac enhances well-being in depressed individuals. Use   0.05\n"
   ]
  },
  {
   "cell_type": "code",
   "execution_count": 26,
   "metadata": {},
   "outputs": [],
   "source": [
    "# read prozac dataset\n",
    "prozac = pd.read_csv(\"prozac.csv\")"
   ]
  },
  {
   "cell_type": "code",
   "execution_count": 27,
   "metadata": {},
   "outputs": [
    {
     "data": {
      "text/html": [
       "<div>\n",
       "<style scoped>\n",
       "    .dataframe tbody tr th:only-of-type {\n",
       "        vertical-align: middle;\n",
       "    }\n",
       "\n",
       "    .dataframe tbody tr th {\n",
       "        vertical-align: top;\n",
       "    }\n",
       "\n",
       "    .dataframe thead th {\n",
       "        text-align: right;\n",
       "    }\n",
       "</style>\n",
       "<table border=\"1\" class=\"dataframe\">\n",
       "  <thead>\n",
       "    <tr style=\"text-align: right;\">\n",
       "      <th></th>\n",
       "      <th>moodpre</th>\n",
       "      <th>moodpost</th>\n",
       "      <th>difference</th>\n",
       "    </tr>\n",
       "  </thead>\n",
       "  <tbody>\n",
       "    <tr>\n",
       "      <th>0</th>\n",
       "      <td>3</td>\n",
       "      <td>5</td>\n",
       "      <td>2</td>\n",
       "    </tr>\n",
       "    <tr>\n",
       "      <th>1</th>\n",
       "      <td>0</td>\n",
       "      <td>1</td>\n",
       "      <td>1</td>\n",
       "    </tr>\n",
       "    <tr>\n",
       "      <th>2</th>\n",
       "      <td>6</td>\n",
       "      <td>5</td>\n",
       "      <td>-1</td>\n",
       "    </tr>\n",
       "    <tr>\n",
       "      <th>3</th>\n",
       "      <td>7</td>\n",
       "      <td>7</td>\n",
       "      <td>0</td>\n",
       "    </tr>\n",
       "    <tr>\n",
       "      <th>4</th>\n",
       "      <td>4</td>\n",
       "      <td>10</td>\n",
       "      <td>6</td>\n",
       "    </tr>\n",
       "    <tr>\n",
       "      <th>5</th>\n",
       "      <td>3</td>\n",
       "      <td>9</td>\n",
       "      <td>6</td>\n",
       "    </tr>\n",
       "    <tr>\n",
       "      <th>6</th>\n",
       "      <td>2</td>\n",
       "      <td>7</td>\n",
       "      <td>5</td>\n",
       "    </tr>\n",
       "    <tr>\n",
       "      <th>7</th>\n",
       "      <td>1</td>\n",
       "      <td>11</td>\n",
       "      <td>10</td>\n",
       "    </tr>\n",
       "    <tr>\n",
       "      <th>8</th>\n",
       "      <td>4</td>\n",
       "      <td>8</td>\n",
       "      <td>4</td>\n",
       "    </tr>\n",
       "  </tbody>\n",
       "</table>\n",
       "</div>"
      ],
      "text/plain": [
       "   moodpre  moodpost  difference\n",
       "0        3         5           2\n",
       "1        0         1           1\n",
       "2        6         5          -1\n",
       "3        7         7           0\n",
       "4        4        10           6\n",
       "5        3         9           6\n",
       "6        2         7           5\n",
       "7        1        11          10\n",
       "8        4         8           4"
      ]
     },
     "execution_count": 27,
     "metadata": {},
     "output_type": "execute_result"
    }
   ],
   "source": [
    "prozac"
   ]
  },
  {
   "cell_type": "code",
   "execution_count": 28,
   "metadata": {},
   "outputs": [],
   "source": [
    "# H0: d_bar = 0\n",
    "# H1: d_bar > 0"
   ]
  },
  {
   "cell_type": "code",
   "execution_count": 29,
   "metadata": {},
   "outputs": [
    {
     "data": {
      "text/plain": [
       "Ttest_relResult(statistic=3.1428571428571423, pvalue=0.006872912197394244)"
      ]
     },
     "execution_count": 29,
     "metadata": {},
     "output_type": "execute_result"
    }
   ],
   "source": [
    "# Calculate test statistics using stats.ttest_rel()  \n",
    "# moodpost - moodpre\n",
    "pairedtest = stats.ttest_rel(prozac.moodpost, prozac.moodpre, alternative=\"greater\")\n",
    "pairedtest"
   ]
  },
  {
   "cell_type": "markdown",
   "metadata": {},
   "source": [
    "(function) ttest_rel: (a, b, axis=0, nan_policy='propagate', alternative=\"two-sided\") -> Self@Ttest_relResult\n",
    "Calculate the t-test on TWO RELATED samples of scores, a and b.\n",
    "\n",
    "This is a two-sided test for the null hypothesis that 2 related or repeated samples have identical average (expected) values.\n",
    "\n",
    "Parameters\n",
    "a, b : array_like\n",
    "    The arrays must have the same shape.\n",
    "axis : int or None, optional\n",
    "    Axis along which to compute test. If None, compute over the whole arrays, a, and b.\n",
    "nan_policy : {'propagate', 'raise', 'omit'}, optional\n",
    "    Defines how to handle when input contains nan. The following options are available (default is 'propagate'):\n",
    "\n",
    "'propagate': returns nan\n",
    "\n",
    "'raise': throws an error\n",
    "\n",
    "'omit': performs the calculations ignoring nan values alternative : {'two-sided', 'less', 'greater'}, optional Defines the alternative hypothesis. The following options are available (default is 'two-sided'):\n",
    "\n",
    "'two-sided'\n",
    "\n",
    "'less': one-sided\n",
    "\n",
    "'greater': one-sided\n",
    "\n",
    "Returns\n",
    "statistic : float or array\n",
    "    t-statistic.\n",
    "pvalue : float or array\n",
    "    Two-sided p-value.\n",
    "\n",
    "Notes\n",
    "Examples for use are scores of the same set of student in different exams, or repeated sampling from the same units. The test measures whether the average score differs significantly across samples (e.g. exams). If we observe a large p-value, for example greater than 0.05 or 0.1 then we cannot reject the null hypothesis of identical average scores. If the p-value is smaller than the threshold, e.g. 1%, 5% or 10%, then we reject the null hypothesis of equal averages. Small p-values are associated with large t-statistics.\n",
    "\n",
    "References\n",
    "https://en.wikipedia.org/wiki/T-test#Dependent_t-test_for_paired_samples\n",
    "\n",
    "Examples\n",
    ">>> from scipy import stats\n",
    ">>> np.random.seed(12345678) # fix random seed to get same numbers\n",
    ">>> rvs1 = stats.norm.rvs(loc=5,scale=10,size=500)\n",
    ">>> rvs2 = (stats.norm.rvs(loc=5,scale=10,size=500) +\n",
    "...         stats.norm.rvs(scale=0.2,size=500))\n",
    ">>> stats.ttest_rel(rvs1,rvs2)\n",
    "(0.24101764965300962, 0.80964043445811562)\n",
    ">>> rvs3 = (stats.norm.rvs(loc=8,scale=10,size=500) +\n",
    "...         stats.norm.rvs(scale=0.2,size=500))\n",
    ">>> stats.ttest_rel(rvs1,rvs3)\n",
    "(-3.9995108708727933, 7.3082402191726459e-005)\n"
   ]
  },
  {
   "cell_type": "code",
   "execution_count": 30,
   "metadata": {},
   "outputs": [
    {
     "data": {
      "text/plain": [
       "Ttest_relResult(statistic=-3.1428571428571423, pvalue=0.006872912197394244)"
      ]
     },
     "execution_count": 30,
     "metadata": {},
     "output_type": "execute_result"
    }
   ],
   "source": [
    "# moodpre - moodpost\n",
    "# H0: d_bar = 0\n",
    "# H1: d_bar < 0\n",
    "stats.ttest_rel(prozac.moodpre, prozac.moodpost, alternative=\"less\")"
   ]
  },
  {
   "cell_type": "code",
   "execution_count": 31,
   "metadata": {},
   "outputs": [
    {
     "name": "stdout",
     "output_type": "stream",
     "text": [
      "Reject the Null\n"
     ]
    }
   ],
   "source": [
    "# Decision\n",
    "alpha = 0.05\n",
    "\n",
    "if pairedtest.pvalue < alpha:\n",
    "    print(\"Reject the Null\")\n",
    "else:\n",
    "    print(\"Fail to reject\")"
   ]
  },
  {
   "cell_type": "code",
   "execution_count": null,
   "metadata": {},
   "outputs": [],
   "source": []
  },
  {
   "cell_type": "code",
   "execution_count": null,
   "metadata": {},
   "outputs": [],
   "source": []
  },
  {
   "cell_type": "code",
   "execution_count": null,
   "metadata": {},
   "outputs": [],
   "source": []
  }
 ],
 "metadata": {
  "kernelspec": {
   "display_name": "Python 3",
   "language": "python",
   "name": "python3"
  },
  "language_info": {
   "codemirror_mode": {
    "name": "ipython",
    "version": 3
   },
   "file_extension": ".py",
   "mimetype": "text/x-python",
   "name": "python",
   "nbconvert_exporter": "python",
   "pygments_lexer": "ipython3",
   "version": "3.8.8"
  }
 },
 "nbformat": 4,
 "nbformat_minor": 2
}
